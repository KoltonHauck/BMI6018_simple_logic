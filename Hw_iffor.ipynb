{
 "cells": [
  {
   "cell_type": "markdown",
   "id": "93d68018",
   "metadata": {},
   "source": [
    "## Logical Processing Homework\n",
    "\n",
    "BMI6018\n",
    "\n",
    "Kolton Hauck"
   ]
  },
  {
   "cell_type": "markdown",
   "id": "e1ca7de4",
   "metadata": {},
   "source": [
    "### Problem 1 Stacking logical operators\n",
    "\n",
    "Only print the section of the array that is modified after completing each operation. i.e only print index 300 of the array after 1.1 and only the first 30 elements after 1.2"
   ]
  },
  {
   "cell_type": "code",
   "execution_count": 1,
   "id": "544d69fb",
   "metadata": {},
   "outputs": [],
   "source": [
    "#given influenza genome\n",
    "influenza_genome = [19, 15, 7, 9, 12, 6, 17, 20, 29, 14, 22, 8, 15, 12, 21, 25, 11, 10, 30, 4, 6, 24, 18, 21, 28, 22, 13, 19, 4, 23, 16, 25, 13, 28, 16, 29, 4, 3, 25, 13, 10, 26, 26, 18, 25, 28, 24, 18, 3, 9, 11, 29, 30, 16, 24, 5, 5, 25, 14, 7, 1, 15, 6, 6, 19, 19, 15, 2, 14, 7, 21, 5, 26, 25, 18, 18, 9, 7, 27, 4, 1, 23, 30, 25, 24, 29, 11, 16, 20, 15, 2, 9, 8, 13, 1, 13, 5, 17, 29, 25, 16, 13, 3, 30, 10, 21, 9, 18, 20, 14, 20, 19, 6, 4, 20, 5, 14, 5, 12, 27, 18, 28, 13, 30, 6, 9, 12, 9, 29, 4, 14, 22, 7, 25, 11, 12, 5, 24, 6, 3, 8, 3, 20, 24, 8, 23, 22, 11, 22, 10, 13, 14, 2, 6, 22, 22, 7, 6, 18, 28, 25, 4, 6, 24, 10, 24, 15, 18, 12, 24, 10, 16, 24, 21, 19, 24, 8, 8, 8, 10, 8, 15, 26, 14, 21, 18, 6, 10, 23, 2, 20, 15, 1, 4, 20, 8, 6, 1, 4, 15, 21, 26, 25, 1, 24, 15, 27, 8, 23, 4, 30, 22, 1, 3, 7, 16, 18, 29, 11, 4, 1, 29, 30, 16, 30, 10, 2, 26, 26, 7, 10, 15, 6, 25, 4, 7, 12, 24, 5, 8, 23, 16, 8, 3, 16, 1, 9, 4, 27, 26, 9, 25, 7, 14, 27, 21, 27, 28, 2, 2, 27, 22, 3, 23, 14, 16, 30, 12, 14, 8, 10, 5, 16, 12, 24, 3, 28, 9, 21, 7, 25, 9, 5, 3, 27, 7, 29, 25, 13, 11, 25, 21, 2, 14, 8, 17, 18, 23, 22, 12, 7, 26, 11, 25, 1, 23, 9, 12, 2, 4, 17, 27, 9, 13, 19, 15, 10, 12, 21, 25, 5, 1, 16, 17, 28, 23, 18, 10, 15, 18, 1, 11, 14, 10, 18, 12, 1, 23, 23, 25, 13, 27, 27, 6, 9, 11, 23, 6, 23, 14, 9, 15, 11, 24, 11, 29, 18, 6, 19, 16, 14, 26, 2, 14, 15, 25, 6, 21, 23, 25, 27, 5, 1, 17, 4, 7, 18, 8, 9, 10, 5, 21, 29, 9, 6, 2, 22, 12, 1, 13, 19, 6, 17, 21, 22, 26, 21, 10, 29, 8, 13, 10, 29, 6, 29, 16, 30, 5, 25, 14, 15, 15, 9, 24, 13, 5, 28, 18, 11, 21, 15, 12, 5, 16, 5, 29, 29, 29, 3, 10, 24, 16, 16, 12, 14, 6, 22, 21, 10, 10, 2, 14, 9, 29, 29, 2, 26, 11, 6, 7, 28, 10, 3, 24, 30, 2, 23, 9, 29, 27, 19, 1, 15, 11, 5, 7, 9, 26, 28, 27, 10, 20, 23, 29, 10, 15, 30, 13, 2, 11, 5, 9, 2, 30, 27, 14, 11, 20, 19, 1, 12, 10, 8, 6, 16, 3, 25, 5, 10, 24]"
   ]
  },
  {
   "cell_type": "markdown",
   "id": "ab5920d6",
   "metadata": {},
   "source": [
    "##### 1.1 add 1 to the value at the index 300."
   ]
  },
  {
   "cell_type": "code",
   "execution_count": 2,
   "id": "90278fd1",
   "metadata": {},
   "outputs": [
    {
     "name": "stdout",
     "output_type": "stream",
     "text": [
      "value at index 300 before:  7\n",
      "value at index 300 after:  8\n"
     ]
    }
   ],
   "source": [
    "print('value at index 300 before: ', influenza_genome[300])\n",
    "influenza_genome[300] += 1\n",
    "print('value at index 300 after: ', influenza_genome[300])"
   ]
  },
  {
   "cell_type": "markdown",
   "id": "8507c654",
   "metadata": {},
   "source": [
    "##### 1.2 for the first 30 elements, if the value of the element is divisible by 3, multiply the value by 3."
   ]
  },
  {
   "cell_type": "code",
   "execution_count": 3,
   "id": "95728609",
   "metadata": {},
   "outputs": [
    {
     "name": "stdout",
     "output_type": "stream",
     "text": [
      "[19, 45, 7, 27, 36, 18, 17, 20, 29, 14, 22, 8, 45, 36, 63, 25, 11, 10, 90, 4, 18, 72, 54, 63, 28, 22, 13, 19, 4, 23]\n"
     ]
    }
   ],
   "source": [
    "for x in range(len(influenza_genome))[:30]:\n",
    "    if influenza_genome[x] % 3 == 0:\n",
    "        influenza_genome[x] *= 3\n",
    "\n",
    "print(influenza_genome[:30])"
   ]
  },
  {
   "cell_type": "markdown",
   "id": "2c41d5ad",
   "metadata": {},
   "source": [
    "##### 1.3 for the last 30 elements, if the index value at that point is divisable by 5, replace the value with \"a\"."
   ]
  },
  {
   "cell_type": "code",
   "execution_count": 4,
   "id": "1da4b89a",
   "metadata": {},
   "outputs": [
    {
     "name": "stdout",
     "output_type": "stream",
     "text": [
      "index|value\n",
      "470|a\n",
      "471|20\n",
      "472|23\n",
      "473|29\n",
      "474|10\n",
      "475|a\n",
      "476|30\n",
      "477|13\n",
      "478|2\n",
      "479|11\n",
      "480|a\n",
      "481|9\n",
      "482|2\n",
      "483|30\n",
      "484|27\n",
      "485|a\n",
      "486|11\n",
      "487|20\n",
      "488|19\n",
      "489|1\n",
      "490|a\n",
      "491|10\n",
      "492|8\n",
      "493|6\n",
      "494|16\n",
      "495|a\n",
      "496|25\n",
      "497|5\n",
      "498|10\n",
      "499|24\n"
     ]
    }
   ],
   "source": [
    "for x in range(len(influenza_genome))[-30:]:\n",
    "    if x % 5 == 0:\n",
    "        influenza_genome[x] = 'a'\n",
    "\n",
    "print('index|value')\n",
    "for x in range(len(influenza_genome))[-30:]:\n",
    "    print(f'{x}|{influenza_genome[x]}')"
   ]
  },
  {
   "cell_type": "markdown",
   "id": "9df00b9f",
   "metadata": {},
   "source": [
    "##### 1.4 for all elements between index 200 and 300, if the value of the element is divisible by BOTH 3 AND 5, replace the value with the 10."
   ]
  },
  {
   "cell_type": "code",
   "execution_count": 5,
   "id": "9cc63514",
   "metadata": {},
   "outputs": [
    {
     "name": "stdout",
     "output_type": "stream",
     "text": [
      "[21, 26, 25, 1, 24, 10, 27, 8, 23, 4, 10, 22, 1, 3, 7, 16, 18, 29, 11, 4, 1, 29, 10, 16, 10, 10, 2, 26, 26, 7, 10, 10, 6, 25, 4, 7, 12, 24, 5, 8, 23, 16, 8, 3, 16, 1, 9, 4, 27, 26, 9, 25, 7, 14, 27, 21, 27, 28, 2, 2, 27, 22, 3, 23, 14, 16, 10, 12, 14, 8, 10, 5, 16, 12, 24, 3, 28, 9, 21, 7, 25, 9, 5, 3, 27, 7, 29, 25, 13, 11, 25, 21, 2, 14, 8, 17, 18, 23, 22, 12]\n"
     ]
    }
   ],
   "source": [
    "for x in range(len(influenza_genome))[200:300]:\n",
    "    if influenza_genome[x] % 3 == 0 and influenza_genome[x] % 5 == 0:\n",
    "        influenza_genome[x] = 10\n",
    "        \n",
    "print(influenza_genome[200:300])"
   ]
  },
  {
   "cell_type": "markdown",
   "id": "0c8db1c1",
   "metadata": {},
   "source": [
    "### Problem 2 Loops within loops\n",
    "\n",
    "Use the influenza_genome:"
   ]
  },
  {
   "cell_type": "markdown",
   "id": "296a01d8",
   "metadata": {},
   "source": [
    "##### 2.1 Create a for loop that iterates over items index 234 through 237 and prints each value (ie there should be 4 items)"
   ]
  },
  {
   "cell_type": "code",
   "execution_count": 6,
   "id": "4d60bda4",
   "metadata": {},
   "outputs": [
    {
     "name": "stdout",
     "output_type": "stream",
     "text": [
      "4\n",
      "7\n",
      "12\n",
      "24\n"
     ]
    }
   ],
   "source": [
    "for x in influenza_genome[234:238]:\n",
    "    print(x)"
   ]
  },
  {
   "cell_type": "markdown",
   "id": "9089549e",
   "metadata": {},
   "source": [
    "##### 2.2 Create a while loop that iterates over items index 234 through 237 and prints each value (ie there should be 4 items)"
   ]
  },
  {
   "cell_type": "code",
   "execution_count": 7,
   "id": "699c319a",
   "metadata": {},
   "outputs": [
    {
     "name": "stdout",
     "output_type": "stream",
     "text": [
      "4\n",
      "7\n",
      "12\n",
      "24\n"
     ]
    }
   ],
   "source": [
    "counter = 0\n",
    "while counter < 4:\n",
    "    print(influenza_genome[counter + 234])\n",
    "    counter += 1"
   ]
  },
  {
   "cell_type": "markdown",
   "id": "2c6756f6",
   "metadata": {},
   "source": [
    "##### 2.3 Create a for loop that iterates over items index 234 through 237 and if the index is 236 print the item 7 times."
   ]
  },
  {
   "cell_type": "code",
   "execution_count": 8,
   "id": "db1deab7",
   "metadata": {},
   "outputs": [
    {
     "name": "stdout",
     "output_type": "stream",
     "text": [
      "12\n",
      "12\n",
      "12\n",
      "12\n",
      "12\n",
      "12\n",
      "12\n",
      "\n"
     ]
    }
   ],
   "source": [
    "for x in range(len(influenza_genome))[234:238]:\n",
    "    if x == 236:\n",
    "        print((str(influenza_genome[x]) + '\\n') * 7)"
   ]
  },
  {
   "cell_type": "markdown",
   "id": "ea6cd77d",
   "metadata": {},
   "source": [
    "### Problem 3 Functions\n",
    "\n",
    "You are going to implement 3 funtions that will process the influenza_genome list in various ways."
   ]
  },
  {
   "cell_type": "markdown",
   "id": "04958302",
   "metadata": {},
   "source": [
    "##### 3.1 write a function, that takes in the array as an argument, and outputs 10 values from the dataset, spaced out by indexes that are 25 apart (ie 0, 25, 50, etc)"
   ]
  },
  {
   "cell_type": "code",
   "execution_count": 9,
   "id": "db10743b",
   "metadata": {},
   "outputs": [
    {
     "name": "stdout",
     "output_type": "stream",
     "text": [
      "[19, 22, 11, 18, 16, 9, 13, 24, 21, 10]\n"
     ]
    }
   ],
   "source": [
    "def ten(my_array):\n",
    "    '''\n",
    "    my_array: input array\n",
    "    \n",
    "    Given an array, will return the first 10 values of the array with stepsize 25\n",
    "    '''\n",
    "    return my_array[::25][:10]\n",
    "\n",
    "print(ten(influenza_genome))"
   ]
  },
  {
   "cell_type": "markdown",
   "id": "34806f17",
   "metadata": {},
   "source": [
    "##### 3.2 write a function that takes in the dataset as an argument and outputs 20 values from the dataset, spaced out by indexes that are y apart (ie you can decide how far apart they should be iterated as long as they dont exceed the length of the dataset)"
   ]
  },
  {
   "cell_type": "code",
   "execution_count": 10,
   "id": "2c9e86e8",
   "metadata": {},
   "outputs": [
    {
     "name": "stdout",
     "output_type": "stream",
     "text": [
      "[19, 22, 11, 18, 16, 9, 13, 24, 21, 10, 9, 3, 8, 23, 9, 7, 13, 29, 28, 'a']\n",
      "[19, 3, 18, 19, 22, 18, 10, 2, 18, 10, 27, 5, 29, 9]\n",
      "[19, 20, 63, 72, 4, 29, 26, 9, 5, 6, 21, 7, 24, 9, 29, 21, 6, 27, 12, 25]\n"
     ]
    }
   ],
   "source": [
    "def twenty(my_array, step_size=7):\n",
    "    '''\n",
    "    my_array: input array\n",
    "    step_size: stepsize to iterate by\n",
    "    \n",
    "    Given an array, will return the first 20 values of the array with step_size as stepsize\n",
    "    '''\n",
    "    if step_size > len(my_array):\n",
    "        print('step_size is greater than length of array')\n",
    "    else:\n",
    "        return my_array[::step_size][:20]\n",
    "\n",
    "print(twenty(influenza_genome, 25))\n",
    "print(twenty(influenza_genome, 37))\n",
    "print(twenty(influenza_genome, 7))"
   ]
  },
  {
   "cell_type": "markdown",
   "id": "e88590ed",
   "metadata": {},
   "source": [
    "##### 3.3 write a function that takes the output from the function from 3.2 as an argument, then only prints out every other item (ie there should only be 10 outputs)"
   ]
  },
  {
   "cell_type": "code",
   "execution_count": 11,
   "id": "59077882",
   "metadata": {},
   "outputs": [
    {
     "name": "stdout",
     "output_type": "stream",
     "text": [
      "[19, 63, 4, 26, 5, 21, 24, 29, 6, 12]\n"
     ]
    }
   ],
   "source": [
    "def half(my_array, step_size=7):\n",
    "    '''\n",
    "    my_array: input array\n",
    "    step_size: stepsize to iterate by\n",
    "    \n",
    "    Performs the 'twenty' function on my_array, then prints out every other item from the returned array\n",
    "    '''\n",
    "    return twenty(my_array, step_size)[::2]\n",
    "\n",
    "print(half(influenza_genome))"
   ]
  },
  {
   "cell_type": "markdown",
   "id": "f2f63bde",
   "metadata": {},
   "source": [
    "### Problem 4 Putting it all together"
   ]
  },
  {
   "cell_type": "markdown",
   "id": "9aed3c17",
   "metadata": {},
   "source": [
    "##### Write a function that implements the code from problem 1.4, then implements the code from problem 2.3. The function should create a modified version of the influenza_genome list as per 1.4, then print the section described in problem 2.3. "
   ]
  },
  {
   "cell_type": "code",
   "execution_count": 12,
   "id": "0e7c08d3",
   "metadata": {},
   "outputs": [
    {
     "name": "stdout",
     "output_type": "stream",
     "text": [
      "12\n",
      "12\n",
      "12\n",
      "12\n",
      "12\n",
      "12\n",
      "12\n",
      "\n"
     ]
    }
   ],
   "source": [
    "def problem4(my_list):\n",
    "    '''\n",
    "    takes a list as an input and in the range [200,300] will replace the value with 10 if divisible by both 3 and 5. Then, will iterate over [234,237] and if the index is 236, will print that value 7 times\n",
    "    '''\n",
    "    for x in range(len(my_list))[200:300]:\n",
    "        if my_list[x] % 5 == 0 and my_list[x] % 3 == 0:\n",
    "            my_list[x] = 10\n",
    "        if x == 236:\n",
    "            print((str(my_list[x]) + '\\n') * 7)\n",
    "\n",
    "problem4(influenza_genome)"
   ]
  },
  {
   "cell_type": "code",
   "execution_count": null,
   "id": "6e6932ac",
   "metadata": {},
   "outputs": [],
   "source": []
  }
 ],
 "metadata": {
  "kernelspec": {
   "display_name": "Python 3",
   "language": "python",
   "name": "python3"
  },
  "language_info": {
   "codemirror_mode": {
    "name": "ipython",
    "version": 3
   },
   "file_extension": ".py",
   "mimetype": "text/x-python",
   "name": "python",
   "nbconvert_exporter": "python",
   "pygments_lexer": "ipython3",
   "version": "3.8.8"
  },
  "vscode": {
   "interpreter": {
    "hash": "acb7b9ebd37b6fa8637fd3027108c77b651ce6aaaec9072fd616444dc2b10c19"
   }
  }
 },
 "nbformat": 4,
 "nbformat_minor": 5
}
